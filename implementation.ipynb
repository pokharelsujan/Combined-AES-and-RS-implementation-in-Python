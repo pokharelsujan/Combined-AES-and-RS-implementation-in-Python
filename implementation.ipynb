{
 "cells": [
  {
   "cell_type": "code",
   "execution_count": 13,
   "metadata": {},
   "outputs": [
    {
     "name": "stdout",
     "output_type": "stream",
     "text": [
      "the text message is: b'Abstract algebra is in my blood. '\n",
      "the cipher message is: b'j\\xc4\\xc3|\\xf9\\xe4Q\\x1c[\\xc4I\\x02\\xe4\\x18\\xecN\"\\xf0\\xb0\\x8e\\xc8\\xbd\\xe5\\x19_[\\x02\\xa7\\xf8\\xcb\\xe9\\xa8\\xc0\\x08.\\xfc\\x8f\"\\xac\\xf2wuVV7Sf8'\n"
     ]
    }
   ],
   "source": [
    "import os\n",
    "from GroupA import AES\n",
    "f = open('data.txt','rb')\n",
    "line1 = f.readline()\n",
    "key = b'Computational123'\n",
    "message=line1\n",
    "#message=b'some secret message'\n",
    "aes =AES (key)\n",
    "cipher_text, iv = aes.encrypt(message)\n",
    "print('the text message is:',message)\n",
    "print('the cipher message is:',cipher_text)\n",
    "\n",
    "with open('data_encrypt.txt', 'wb') as R:\n",
    "    R.write(cipher_text)\n",
    "    \n"
   ]
  },
  {
   "cell_type": "code",
   "execution_count": 7,
   "metadata": {},
   "outputs": [],
   "source": [
    "import codecs\n",
    "cipher=cipher_text\n",
    "cipher_1=cipher.decode('latin-1')\n"
   ]
  },
  {
   "cell_type": "code",
   "execution_count": 8,
   "metadata": {
    "scrolled": false
   },
   "outputs": [
    {
     "name": "stdout",
     "output_type": "stream",
     "text": [
      "r(&\u000flë\u0002(§<îjËá£27\t{Rg½úÍB\n",
      "!&/3tv\u000b",
      "UÂÒJ¤H÷Yd \n",
      "\n",
      "gf exp table : [1, 2, 4, 8, 16, 32, 64, 128, 29, 58, 116, 232, 205, 135, 19, 38, 76, 152, 45, 90, 180, 117, 234, 201, 143, 3, 6, 12, 24, 48, 96, 192, 157, 39, 78, 156, 37, 74, 148, 53, 106, 212, 181, 119, 238, 193, 159, 35, 70, 140, 5, 10, 20, 40, 80, 160, 93, 186, 105, 210, 185, 111, 222, 161, 95, 190, 97, 194, 153, 47, 94, 188, 101, 202, 137, 15, 30, 60, 120, 240, 253, 231, 211, 187, 107, 214, 177, 127, 254, 225, 223, 163, 91, 182, 113, 226, 217, 175, 67, 134, 17, 34, 68, 136, 13, 26, 52, 104, 208, 189, 103, 206, 129, 31, 62, 124, 248, 237, 199, 147, 59, 118, 236, 197, 151, 51, 102, 204, 133, 23, 46, 92, 184, 109, 218, 169, 79, 158, 33, 66, 132, 21, 42, 84, 168, 77, 154, 41, 82, 164, 85, 170, 73, 146, 57, 114, 228, 213, 183, 115, 230, 209, 191, 99, 198, 145, 63, 126, 252, 229, 215, 179, 123, 246, 241, 255, 227, 219, 171, 75, 150, 49, 98, 196, 149, 55, 110, 220, 165, 87, 174, 65, 130, 25, 50, 100, 200, 141, 7, 14, 28, 56, 112, 224, 221, 167, 83, 166, 81, 162, 89, 178, 121, 242, 249, 239, 195, 155, 43, 86, 172, 69, 138, 9, 18, 36, 72, 144, 61, 122, 244, 245, 247, 243, 251, 235, 203, 139, 11, 22, 44, 88, 176, 125, 250, 233, 207, 131, 27, 54, 108, 216, 173, 71, 142]\n",
      "\n",
      "encoded msg: [114, 40, 152, 38, 15, 108, 149, 235, 2, 40, 167, 60, 144, 238, 106, 203, 225, 163, 50, 55, 9, 123, 82, 103, 189, 250, 205, 66, 10, 33, 38, 47, 51, 116, 118, 11, 85, 194, 210, 74, 164, 155, 72, 247, 89, 130, 100, 127, 46, 226, 207, 132, 3, 216, 94, 0, 129, 35, 84, 74, 77, 52, 24, 28, 68, 10, 215, 22, 166, 234, 112, 64, 185, 204, 49, 254, 39, 223, 118, 82, 145, 177, 48, 93, 225, 239, 196, 84, 65, 120, 59, 46, 125, 249, 234, 252, 108, 104, 6, 49]\n",
      "\n",
      "\n",
      "Corrupted: [114, 40, 152, 38, 15, 108, 149, 114, 2, 40, 167, 60, 144, 238, 106, 203, 225, 163, 117, 55, 9, 123, 82, 103, 189, 250, 205, 66, 10, 33, 38, 110, 51, 116, 31, 11, 85, 104, 210, 74, 164, 155, 72, 247, 109, 130, 100, 127, 46, 226, 207, 132, 3, 216, 94, 0, 129, 35, 84, 74, 77, 52, 24, 28, 68, 10, 215, 22, 166, 234, 112, 64, 185, 204, 49, 254, 39, 223, 118, 82, 145, 177, 48, 93, 225, 239, 196, 84, 65, 120, 59, 46, 125, 249, 234, 252, 108, 104, 6, 49] \n",
      "\n",
      "b\"r(\\x98&\\x0fl\\x95r\\x02(\\xa7<\\x90\\xeej\\xcb\\xe1\\xa3u7\\t{Rg\\xbd\\xfa\\xcdB\\n!&n3t\\x1f\\x0bUh\\xd2J\\xa4\\x9bH\\xf7m\\x82d\\x7f.\\xe2\\xcf\\x84\\x03\\xd8^\\x00\\x81#TJM4\\x18\\x1cD\\n\\xd7\\x16\\xa6\\xeap@\\xb9\\xcc1\\xfe'\\xdfvR\\x91\\xb10]\\xe1\\xef\\xc4TAx;.}\\xf9\\xea\\xfclh\\x061\"\n",
      "r(&\u000flr\u0002(§<îjËá£u7\t{Rg½úÍB\n",
      "!&n3t\u001f\u000b",
      "UhÒJ¤H÷md.âÏ\u0003Ø^\u0000#TJM4\u0018\u001c",
      "D\n",
      "×\u0016¦êp@¹Ì1þ'ßvR±0]áïÄTAx;.}ùêülh\u00061\n"
     ]
    }
   ],
   "source": [
    "import RE as en\n",
    "import RD as de\n",
    "\n",
    "# Configuration of the parameters and input message\n",
    "prim = 0x11d\n",
    "n = 100 # set the size you want, it must be > k, the remaining n-k symbols will be the ECC code (more is better)\n",
    "k = 48 # k = len(message) #201 character\n",
    "#message = \"\\xfa\\xb4u\\xcd\\xfc\\x08\\x17\\xf3\\x9cR\\x92\\xb61\\x99\\xd2\\x0c-\\\\V\\xaf<\\nR\\xc7\\x82#\\xd6R\\xd4\\xd6\\x11\\xb7\\xb94\\x07\\xf6\\xc6.\\x04\\xaf\\xef\\x1c\\x97\\x03F\\xa2\\x19\\xc1\" #k = len(msg)\n",
    "# Initializing the log/antilog tables\n",
    "message=cipher_1\n",
    "print(message,\"\\n\")\n",
    "en.init_tables(prim)\n",
    "\n",
    "# Encoding the input message\n",
    "#mesecc = en.rs_encode_msg(message, n-k)\n",
    "mesecc = en.rs_encode_msg([ord(x) for x in message], n-k)\n",
    "\n",
    "print(\"\\nencoded msg: %s\" % mesecc)\n",
    "print(\"\\n\")\n",
    "\n",
    "# Tampering 6 characters of the message (over 9 ecc symbols, so we are above the Singleton Bound)\n",
    "#mesecc[0] = 82\n",
    "#mesecc[17] = 103\n",
    "#mesecc[215] = 104\n",
    "mesecc[7] = 114\n",
    "mesecc[34] = 31\n",
    "mesecc[37] = 104\n",
    "mesecc[44] = 109\n",
    "mesecc[18] = 117\n",
    "mesecc[31] = 110\n",
    "#mesecc[41] = 107\n",
    "#mesecc[10] = 117\n",
    "#mesecc[45] = 100\n",
    "#mesecc[126] = 114\n",
    "#mesecc[16] = 31\n",
    "#mesecc[14] = 103\n",
    "#mesecc[150] = 100\n",
    "#mesecc[169] = 107\n",
    "#mesecc[15] = 8\n",
    "print(\"Corrupted: %s\" % mesecc,\"\\n\")\n",
    "print(bytes(bytearray((mesecc))))\n",
    "print(''.join([chr(x) for x in mesecc]))"
   ]
  },
  {
   "cell_type": "code",
   "execution_count": 15,
   "metadata": {},
   "outputs": [
    {
     "name": "stdout",
     "output_type": "stream",
     "text": [
      "syndrome v1 : [0, 170, 250, 59, 27, 56, 154, 248, 102, 99, 113, 169, 224, 82, 6, 175, 136, 242, 22, 108, 201, 199, 215, 24, 163, 202, 2, 28, 56, 56, 228, 27, 195, 138, 170, 72, 91, 117, 166, 160, 165, 64, 244, 46, 201, 36, 56, 61, 117, 153, 27, 78, 109]\n",
      "synd:  [0, 0, 0, 0, 0, 0, 0, 0, 0, 0, 0, 0, 0, 0, 0, 0, 0, 0, 0, 0, 0, 0, 0, 0, 0, 0, 0, 0, 0, 0, 0, 0, 0, 0, 0, 0, 0, 0, 0, 0, 0, 0, 0, 0, 0, 0, 0, 0, 0, 0, 0, 0, 0] \n",
      "\n",
      "\n",
      "Cor: [114, 40, 152, 38, 15, 108, 149, 235, 2, 40, 167, 60, 144, 238, 106, 203, 225, 163, 50, 55, 9, 123, 82, 103, 189, 250, 205, 66, 10, 33, 38, 47, 51, 116, 118, 11, 85, 194, 210, 74, 164, 155, 72, 247, 89, 130, 100, 127, 46, 226, 207, 132, 3, 216, 94, 0, 129, 35, 84, 74, 77, 52, 24, 28, 68, 10, 215, 22, 166, 234, 112, 64, 185, 204, 49, 254, 39, 223, 118, 82, 145, 177, 48, 93, 225, 239, 196, 84, 65, 120, 59, 46, 125, 249, 234, 252, 108, 104, 6, 49]\n",
      "\n",
      "\n",
      "r(&\u000flë\u0002(§<îjËá£27\t{Rg½úÍB\n",
      "!&/3tv\u000b",
      "UÂÒJ¤H÷Yd\n",
      "b'r(\\x98&\\x0fl\\x95\\xeb\\x02(\\xa7<\\x90\\xeej\\xcb\\xe1\\xa327\\t{Rg\\xbd\\xfa\\xcdB\\n!&/3tv\\x0bU\\xc2\\xd2J\\xa4\\x9bH\\xf7Y\\x82d\\x7f'\n"
     ]
    }
   ],
   "source": [
    "corrected_message,corrected_ecc = de.rs_correct_msg(mesecc, n-k, erase_pos=[0, 1, 2])\n",
    "print(\"\\nCor: %s\" % (corrected_message+corrected_ecc))\n",
    "print(\"\\n\")\n",
    "print(''.join([chr(x) for x in corrected_message]))\n",
    "print(bytes(bytearray((corrected_message))))"
   ]
  },
  {
   "cell_type": "code",
   "execution_count": 11,
   "metadata": {},
   "outputs": [
    {
     "name": "stdout",
     "output_type": "stream",
     "text": [
      "the decrypted message is: b'Abstract algebra is in my blood. '\n"
     ]
    }
   ],
   "source": [
    "#message=b'\\\\\\x8f?P\\x9c\\xfb\\xaaV~\\xc0o\\x90\\xff\\xa3\\x96(K;\\xbe\\xa8\\xd8\\x05\\x1c\\xb2%\\xa7\\x964\\\\\\xc1\\xb0\\xbc\\x8dz\\xd3\\xa1og\\x8f\\x1e\\x19\\xf6D\\xc0d^k%'\n",
    "#print(type(cipher_text))\n",
    "#cipher_text=open('data_encrypt.txt','rb')\n",
    "\n",
    "#line2 = cipher_text.readline()\n",
    "#message=b'zmU\\xf7\\xaf\\xa7\\x19r(\\x1f\\xb9\\xa31\\x1b\\xd9\\xc5\\xd2Xudj@\\\\\\xa2eA\\xa1\\xee\\x1fD\\xa1n\\xce\\x93\\x1f\\\\\\x9ah\\x07`\\xed\\xbam\\xd2M#'\n",
    "#print(line2)\n",
    "message=corrected_message\n",
    "plain_text = aes.decrypt(message, iv)\n",
    "\n",
    "print('the decrypted message is:',plain_text)\n",
    "\n",
    "with open('data_decrypt.txt', 'wb') as R:\n",
    "    R.write(plain_text)"
   ]
  },
  {
   "cell_type": "code",
   "execution_count": null,
   "metadata": {},
   "outputs": [],
   "source": [
    "\n"
   ]
  },
  {
   "cell_type": "code",
   "execution_count": null,
   "metadata": {},
   "outputs": [],
   "source": []
  },
  {
   "cell_type": "code",
   "execution_count": null,
   "metadata": {},
   "outputs": [],
   "source": []
  },
  {
   "cell_type": "code",
   "execution_count": null,
   "metadata": {},
   "outputs": [],
   "source": []
  },
  {
   "cell_type": "code",
   "execution_count": null,
   "metadata": {},
   "outputs": [],
   "source": []
  }
 ],
 "metadata": {
  "kernelspec": {
   "display_name": "Python 3 (ipykernel)",
   "language": "python",
   "name": "python3"
  },
  "language_info": {
   "codemirror_mode": {
    "name": "ipython",
    "version": 3
   },
   "file_extension": ".py",
   "mimetype": "text/x-python",
   "name": "python",
   "nbconvert_exporter": "python",
   "pygments_lexer": "ipython3",
   "version": "3.9.13"
  }
 },
 "nbformat": 4,
 "nbformat_minor": 4
}
